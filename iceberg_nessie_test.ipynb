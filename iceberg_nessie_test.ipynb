{
 "cells": [
  {
   "cell_type": "markdown",
   "id": "fbd582e6-6f58-43d4-960b-c8e5948cc5e2",
   "metadata": {},
   "source": [
    "Since we are using nessie as part of this here test we need to start a local version of that. When it is up you should be able to got to this here local address and see something running. \n",
    "Address: (nessie)[http://localhost:19120/]. Be aware that we will restart the container - we are not stopping it. "
   ]
  },
  {
   "cell_type": "code",
   "execution_count": 3,
   "id": "d4003872-8a90-4915-835e-9b024a0948a0",
   "metadata": {},
   "outputs": [
    {
     "data": {
      "text/plain": [
       "['d5719fb14396af7dade739124cdefe940a0ae90b6c232f6fc3fc12cf0c7adfcd']"
      ]
     },
     "execution_count": 3,
     "metadata": {},
     "output_type": "execute_result"
    }
   ],
   "source": [
    "!!docker rm $(docker ps -aq --filter name=nessie-test)\n",
    "!!docker run -d --name nessie-test -p 19120:19120 -p 9000:9000 quay.io/projectnessie/nessie:0.104.2"
   ]
  },
  {
   "cell_type": "markdown",
   "id": "db269092-150f-4e76-90cf-51308a171870",
   "metadata": {},
   "source": [
    "First we set the SPARK_HOME Env to make sure we can use SPARK locally"
   ]
  },
  {
   "cell_type": "code",
   "execution_count": 4,
   "id": "d2590027-8d8e-4c6a-bdb6-407b138c9404",
   "metadata": {},
   "outputs": [],
   "source": [
    "import os\n",
    "spark_home = \"/home/kasper/developer/utils/spark\"\n",
    "os.environ['SPARK_HOME'] = spark_home\n",
    "data_path = os.path.abspath(os.getcwd())"
   ]
  },
  {
   "cell_type": "code",
   "execution_count": 5,
   "id": "969b98a3-18f3-48ca-8ac1-304b8db2fdab",
   "metadata": {},
   "outputs": [
    {
     "name": "stderr",
     "output_type": "stream",
     "text": [
      "25/06/20 11:27:29 WARN Utils: Your hostname, kasper-ThinkPad-P52 resolves to a loopback address: 127.0.1.1; using 10.242.149.19 instead (on interface wlp0s20f3)\n",
      "25/06/20 11:27:29 WARN Utils: Set SPARK_LOCAL_IP if you need to bind to another address\n"
     ]
    },
    {
     "name": "stdout",
     "output_type": "stream",
     "text": [
      ":: loading settings :: url = jar:file:/home/kasper/developer/utils/spark-3.5.6-bin-hadoop3/jars/ivy-2.5.1.jar!/org/apache/ivy/core/settings/ivysettings.xml\n"
     ]
    },
    {
     "name": "stderr",
     "output_type": "stream",
     "text": [
      "Ivy Default Cache set to: /home/kasper/.ivy2/cache\n",
      "The jars for the packages stored in: /home/kasper/.ivy2/jars\n",
      "org.apache.iceberg#iceberg-spark-runtime-3.5_2.12 added as a dependency\n",
      "org.projectnessie.nessie-integrations#nessie-spark-extensions-3.5_2.12 added as a dependency\n",
      ":: resolving dependencies :: org.apache.spark#spark-submit-parent-8d13c563-bc75-4013-b11e-178a1b7967f7;1.0\n",
      "\tconfs: [default]\n",
      "\tfound org.apache.iceberg#iceberg-spark-runtime-3.5_2.12;1.9.1 in central\n",
      "\tfound org.projectnessie.nessie-integrations#nessie-spark-extensions-3.5_2.12;0.103.3 in central\n",
      ":: resolution report :: resolve 114ms :: artifacts dl 7ms\n",
      "\t:: modules in use:\n",
      "\torg.apache.iceberg#iceberg-spark-runtime-3.5_2.12;1.9.1 from central in [default]\n",
      "\torg.projectnessie.nessie-integrations#nessie-spark-extensions-3.5_2.12;0.103.3 from central in [default]\n",
      "\t---------------------------------------------------------------------\n",
      "\t|                  |            modules            ||   artifacts   |\n",
      "\t|       conf       | number| search|dwnlded|evicted|| number|dwnlded|\n",
      "\t---------------------------------------------------------------------\n",
      "\t|      default     |   2   |   0   |   0   |   0   ||   2   |   0   |\n",
      "\t---------------------------------------------------------------------\n",
      ":: retrieving :: org.apache.spark#spark-submit-parent-8d13c563-bc75-4013-b11e-178a1b7967f7\n",
      "\tconfs: [default]\n",
      "\t0 artifacts copied, 2 already retrieved (0kB/5ms)\n",
      "25/06/20 11:27:29 WARN NativeCodeLoader: Unable to load native-hadoop library for your platform... using builtin-java classes where applicable\n",
      "Setting default log level to \"WARN\".\n",
      "To adjust logging level use sc.setLogLevel(newLevel). For SparkR, use setLogLevel(newLevel).\n",
      "25/06/20 11:27:41 WARN GarbageCollectionMetrics: To enable non-built-in garbage collector(s) List(G1 Concurrent GC), users should configure it(them) to spark.eventLog.gcMetrics.youngGenerationGarbageCollectors or spark.eventLog.gcMetrics.oldGenerationGarbageCollectors\n"
     ]
    }
   ],
   "source": [
    "from pyspark.sql import SparkSession\n",
    "\n",
    "spark = (SparkSession.builder\n",
    "    .appName(\"Nessie_Iceberg_Setup\")\n",
    "    .config(\"spark.jars.packages\", \"org.apache.iceberg:iceberg-spark-runtime-3.5_2.12:1.9.1,org.projectnessie.nessie-integrations:nessie-spark-extensions-3.5_2.12:0.103.3\")\n",
    "    .config(\"spark.sql.extensions\", \"org.apache.iceberg.spark.extensions.IcebergSparkSessionExtensions,org.projectnessie.spark.extensions.NessieSparkSessionExtensions\")\n",
    "    .config(\"spark.sql.catalog.nessie\", \"org.apache.iceberg.spark.SparkCatalog\")\n",
    "    .config(\"spark.sql.catalog.nessie.uri\", \"http://localhost:19120/api/v1\")\n",
    "    .config(\"spark.sql.catalog.nessie.ref\", \"main\")\n",
    "    .config(\"spark.sql.catalog.nessie.authentication.type\", \"NONE\")\n",
    "    .config(\"spark.sql.catalog.nessie.catalog-impl\", \"org.apache.iceberg.nessie.NessieCatalog\")\n",
    "    .config(\"spark.sql.catalog.nessie.warehouse\", f\"file://{data_path}/test_data/\")\n",
    "    .getOrCreate())"
   ]
  },
  {
   "cell_type": "markdown",
   "id": "9e0b7379-27ad-4045-9929-e86574f3dae9",
   "metadata": {},
   "source": [
    "First we create some sample data"
   ]
  },
  {
   "cell_type": "code",
   "execution_count": null,
   "id": "0bff80a6-6336-4ab6-8d73-31d8dc88dc03",
   "metadata": {},
   "outputs": [],
   "source": [
    "df = spark.createDataFrame([(1, \"a\"), (2, \"b\")], [\"id\", \"value\"])\n",
    "df.show()"
   ]
  },
  {
   "cell_type": "markdown",
   "id": "31870bc0-db9b-4a8a-930e-8bfc424c88f6",
   "metadata": {},
   "source": [
    "Save the dataframe as a parquet file."
   ]
  },
  {
   "cell_type": "code",
   "execution_count": null,
   "id": "74626b30-6e79-49bb-b79e-c98723f24ab8",
   "metadata": {},
   "outputs": [],
   "source": [
    "df.write.parquet(\"test_data/users\")"
   ]
  },
  {
   "cell_type": "markdown",
   "id": "3469edab-b8fc-4968-9cc0-2582500b6f4a",
   "metadata": {},
   "source": [
    "Now we read the files created - and add them to nessie"
   ]
  },
  {
   "cell_type": "code",
   "execution_count": 6,
   "id": "3e7fa2dd-5641-48cb-a2d6-29d4cfae2649",
   "metadata": {},
   "outputs": [
    {
     "name": "stdout",
     "output_type": "stream",
     "text": [
      "+---+-----+\n",
      "| id|value|\n",
      "+---+-----+\n",
      "|  2|    b|\n",
      "|  1|    a|\n",
      "+---+-----+\n",
      "\n"
     ]
    }
   ],
   "source": [
    "df_user = spark.read.parquet(\"test_data/users\")\n",
    "df_user.show()"
   ]
  },
  {
   "cell_type": "code",
   "execution_count": 14,
   "id": "fd0d90fe-b704-4353-86b2-546fedc2d1e2",
   "metadata": {},
   "outputs": [],
   "source": [
    "df_user.write.format(\"iceberg\").mode(\"append\").saveAsTable(\"nessie.users\")"
   ]
  },
  {
   "cell_type": "markdown",
   "id": "0c91d38e-17ce-4dc5-ab8c-7cece30f2662",
   "metadata": {},
   "source": [
    "Now we have a table in nessie - now lets create a query on that."
   ]
  },
  {
   "cell_type": "code",
   "execution_count": 15,
   "id": "3f927e1a-7f7c-4ebc-acf9-963e99bcbf4c",
   "metadata": {},
   "outputs": [
    {
     "name": "stdout",
     "output_type": "stream",
     "text": [
      "+---+-----+\n",
      "| id|value|\n",
      "+---+-----+\n",
      "|  2|    b|\n",
      "|  1|    a|\n",
      "+---+-----+\n",
      "\n"
     ]
    }
   ],
   "source": [
    "spark.sql(\"SELECT * FROM nessie.users\").show()"
   ]
  }
 ],
 "metadata": {
  "kernelspec": {
   "display_name": "Python 3 (ipykernel)",
   "language": "python",
   "name": "python3"
  },
  "language_info": {
   "codemirror_mode": {
    "name": "ipython",
    "version": 3
   },
   "file_extension": ".py",
   "mimetype": "text/x-python",
   "name": "python",
   "nbconvert_exporter": "python",
   "pygments_lexer": "ipython3",
   "version": "3.13.2"
  }
 },
 "nbformat": 4,
 "nbformat_minor": 5
}
